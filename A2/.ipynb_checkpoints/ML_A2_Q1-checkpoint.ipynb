{
 "cells": [
  {
   "cell_type": "code",
   "execution_count": 117,
   "metadata": {},
   "outputs": [],
   "source": [
    "import pandas as pd\n",
    "import numpy as np\n",
    "import re\n",
    "from nltk.corpus import stopwords \n",
    "from nltk.tokenize import word_tokenize \n",
    "from nltk.stem import PorterStemmer "
   ]
  },
  {
   "cell_type": "code",
   "execution_count": 118,
   "metadata": {},
   "outputs": [],
   "source": [
    "df = np.asarray(pd.read_csv(\"./training.csv\",encoding='latin-1'))\n",
    "df_test = np.asarray(pd.read_csv(\"./test.csv\",encoding='latin-1'))"
   ]
  },
  {
   "cell_type": "code",
   "execution_count": 98,
   "metadata": {},
   "outputs": [],
   "source": [
    "def drop_digits(in_str):\n",
    "    digit_list = \"1234567890\"\n",
    "    for char in digit_list:\n",
    "        in_str = in_str.replace(char, \"\")\n",
    "\n",
    "    return in_str"
   ]
  },
  {
   "cell_type": "code",
   "execution_count": 130,
   "metadata": {},
   "outputs": [
    {
     "name": "stdout",
     "output_type": "stream",
     "text": [
      "543063\n"
     ]
    }
   ],
   "source": [
    "#Create dictionary\n",
    "#Key is the word, value is the dictionary number\n",
    "\n",
    "dict = {}\n",
    "dict_pos = {}\n",
    "dict_neg = {}\n",
    "selected_keys = list()\n",
    "\n",
    "count = 0 \n",
    "\n",
    "d = \",.!?/..&-:;...% \"\n",
    "\n",
    "# nltk.download('stopwords')\n",
    "# nltk.download('punkt')\n",
    "stop_words = set(stopwords.words('english')) \n",
    "\n",
    "ps =PorterStemmer()\n",
    "\n",
    "for i in range(len(df)):\n",
    "#     print(df.iloc[i][5] + '\\n')\n",
    "    str = drop_digits(df[i][5])\n",
    "    arr = ' '.join(w for w in re.split(\"[\"+\"\\\\\".join(d)+\"]\", str) if w).split(' ')\n",
    "    arr = [w for w in arr if not w in stop_words]\n",
    "#     print(arr[0][0])\n",
    "    if(len(arr)!=0):\n",
    "        if arr[0][0]=='@':\n",
    "            arr.pop(0)\n",
    "#     tweets.append(arr)\n",
    "    for j in range(len(arr)):\n",
    "#         arr[j] = ps.stem(arr[j])\n",
    "        if arr[j] not in dict.keys():\n",
    "            random = np.zeros((3))\n",
    "            #[Count, freq_pos, freq_neg]\n",
    "        \n",
    "            random[0] = count\n",
    "            count+=1      \n",
    "            if i<(800000):\n",
    "                random[1]=0\n",
    "                random[2]=1\n",
    "            else:\n",
    "                random[1]=1\n",
    "                random[2]=0\n",
    "            \n",
    "            dict[arr[j]] = random\n",
    "        \n",
    "        else:\n",
    "            random = dict[arr[j]]\n",
    "            if i<800000:    \n",
    "                random[2]+=1\n",
    "            else:\n",
    "                random[1]+=1\n",
    "            dict[arr[j]] = random\n",
    "            \n",
    "for key in dict.keys():\n",
    "    if (dict[key][0]<10):\n",
    "        selected_keys.append(key)\n",
    "        \n",
    "for key in selected_keys:\n",
    "    del dict[key]\n",
    "        \n",
    "    \n",
    "print(len(dict))\n",
    "# print(dict)\n",
    "# print(len(tweets))\n"
   ]
  },
  {
   "cell_type": "code",
   "execution_count": 123,
   "metadata": {},
   "outputs": [],
   "source": [
    "size=0\n",
    "for i in range(len(df)):\n",
    "    str = drop_digits(df[i][5])\n",
    "    arr = ' '.join(w for w in re.split(\"[\"+\"\\\\\".join(d)+\"]\", str) if w).lower().split(' ')\n",
    "    size+= len(arr)"
   ]
  },
  {
   "cell_type": "code",
   "execution_count": 124,
   "metadata": {},
   "outputs": [],
   "source": [
    "for key in dict.keys():\n",
    "#     Calculate parameter with laplace smoothening\n",
    "    random = dict[key]\n",
    "    dict_neg[key] = float((random[2]+1)/(size+len(dict)))\n",
    "    dict_pos[key] = float((random[1]+1)/(size+len(dict)))\n",
    "prob_is_spam = 0.5"
   ]
  },
  {
   "cell_type": "code",
   "execution_count": 125,
   "metadata": {},
   "outputs": [],
   "source": [
    "# print(df_test[9])\n",
    "# print(dict_neg['shit'])"
   ]
  },
  {
   "cell_type": "code",
   "execution_count": 131,
   "metadata": {},
   "outputs": [
    {
     "ename": "KeyError",
     "evalue": "'reading'",
     "output_type": "error",
     "traceback": [
      "\u001b[0;31m---------------------------------------------------------------------------\u001b[0m",
      "\u001b[0;31mKeyError\u001b[0m                                  Traceback (most recent call last)",
      "\u001b[0;32m<ipython-input-131-8ea64c937351>\u001b[0m in \u001b[0;36m<module>\u001b[0;34m\u001b[0m\n\u001b[1;32m     14\u001b[0m     \u001b[0;32mfor\u001b[0m \u001b[0mj\u001b[0m \u001b[0;32min\u001b[0m \u001b[0mrange\u001b[0m\u001b[0;34m(\u001b[0m\u001b[0mlen\u001b[0m\u001b[0;34m(\u001b[0m\u001b[0marr\u001b[0m\u001b[0;34m)\u001b[0m\u001b[0;34m)\u001b[0m\u001b[0;34m:\u001b[0m\u001b[0;34m\u001b[0m\u001b[0;34m\u001b[0m\u001b[0m\n\u001b[1;32m     15\u001b[0m         \u001b[0;32mif\u001b[0m \u001b[0marr\u001b[0m\u001b[0;34m[\u001b[0m\u001b[0mj\u001b[0m\u001b[0;34m]\u001b[0m \u001b[0;32min\u001b[0m \u001b[0mdict\u001b[0m\u001b[0;34m.\u001b[0m\u001b[0mkeys\u001b[0m\u001b[0;34m(\u001b[0m\u001b[0;34m)\u001b[0m\u001b[0;34m:\u001b[0m\u001b[0;34m\u001b[0m\u001b[0;34m\u001b[0m\u001b[0m\n\u001b[0;32m---> 16\u001b[0;31m             \u001b[0mpos_sum\u001b[0m\u001b[0;34m*=\u001b[0m\u001b[0mdict_pos\u001b[0m\u001b[0;34m[\u001b[0m\u001b[0marr\u001b[0m\u001b[0;34m[\u001b[0m\u001b[0mj\u001b[0m\u001b[0;34m]\u001b[0m\u001b[0;34m]\u001b[0m\u001b[0;34m\u001b[0m\u001b[0;34m\u001b[0m\u001b[0m\n\u001b[0m\u001b[1;32m     17\u001b[0m             \u001b[0mneg_sum\u001b[0m\u001b[0;34m*=\u001b[0m\u001b[0mdict_neg\u001b[0m\u001b[0;34m[\u001b[0m\u001b[0marr\u001b[0m\u001b[0;34m[\u001b[0m\u001b[0mj\u001b[0m\u001b[0;34m]\u001b[0m\u001b[0;34m]\u001b[0m\u001b[0;34m\u001b[0m\u001b[0;34m\u001b[0m\u001b[0m\n\u001b[1;32m     18\u001b[0m         \u001b[0;32melse\u001b[0m\u001b[0;34m:\u001b[0m\u001b[0;34m\u001b[0m\u001b[0;34m\u001b[0m\u001b[0m\n",
      "\u001b[0;31mKeyError\u001b[0m: 'reading'"
     ]
    }
   ],
   "source": [
    "correct,total = (0,0)\n",
    "ps = PorterStemmer()\n",
    "d = \",.!?/..&-:;...% \"\n",
    "for i in range(len(df_test)):\n",
    "    pred=0\n",
    "    pos_sum,neg_sum = (1,1)\n",
    "    str = drop_digits(df_test[i][5])\n",
    "    arr = ' '.join(w for w in re.split(\"[\"+\"\\\\\".join(d)+\"]\", str) if w).lower().split(' ')\n",
    "    if(len(arr)!=0):\n",
    "        if arr[0][0]=='@':\n",
    "            arr.pop(0)\n",
    "#     for j in range(len(arr)):\n",
    "#         arr[j] = ps.stem(arr[j])\n",
    "    for j in range(len(arr)): \n",
    "        if arr[j] in dict.keys():\n",
    "            pos_sum*=dict_pos[arr[j]]\n",
    "            neg_sum*=dict_neg[arr[j]]\n",
    "        else:\n",
    "            pos_sum*=float(1/size+len(dict))\n",
    "            neg_sum*=float(1/size+len(dict))\n",
    "    prob = float(pos_sum/(pos_sum+neg_sum))\n",
    "    if(prob>0.5):\n",
    "        pred=4 \n",
    "    else:\n",
    "        pred=0\n",
    "    if(pred==df_test[i][0]): \n",
    "        correct+=1\n",
    "    total+=1\n",
    "print('Correct:',correct,'/',total)"
   ]
  },
  {
   "cell_type": "code",
   "execution_count": 120,
   "metadata": {},
   "outputs": [
    {
     "name": "stdout",
     "output_type": "stream",
     "text": [
      "['hello', 'sir', '2^3', 'okay..', 'let', \"'s\", 'see']\n"
     ]
    }
   ],
   "source": [
    "# arr = ['eat','eating','Eat','See']\n",
    "# for i in range(len(arr)):\n",
    "#     arr[i] = ps.stem(arr[i])\n",
    "# print(arr)\n",
    "string = \"hello sir 2^3 okay.. let's see\"\n",
    "\n",
    "print(word_tokenize(string))"
   ]
  },
  {
   "cell_type": "code",
   "execution_count": null,
   "metadata": {},
   "outputs": [],
   "source": []
  }
 ],
 "metadata": {
  "kernelspec": {
   "display_name": "Python 3",
   "language": "python",
   "name": "python3"
  },
  "language_info": {
   "codemirror_mode": {
    "name": "ipython",
    "version": 3
   },
   "file_extension": ".py",
   "mimetype": "text/x-python",
   "name": "python",
   "nbconvert_exporter": "python",
   "pygments_lexer": "ipython3",
   "version": "3.8.1"
  }
 },
 "nbformat": 4,
 "nbformat_minor": 4
}
