{
 "cells": [
  {
   "cell_type": "code",
   "execution_count": 16,
   "metadata": {},
   "outputs": [],
   "source": [
    "from sklearn.ensemble import RandomForestClassifier\n",
    "from sklearn.model_selection import GridSearchCV\n",
    "import numpy as np\n",
    "import pprint\n",
    "import matplotlib.pyplot as plt"
   ]
  },
  {
   "cell_type": "code",
   "execution_count": 4,
   "metadata": {},
   "outputs": [],
   "source": [
    "#####################################  LOADING TRAIN X DATA   ####################################\n",
    "f_x = open('./Data/train_x.txt','r')\n",
    "\n",
    "X_train = np.zeros((64713,482))\n",
    "\n",
    "line1 = f_x.readline()\n",
    "counter = 0\n",
    "\n",
    "\n",
    "while True:\n",
    "    line1 = f_x.readline()\n",
    "    \n",
    "    if not line1:\n",
    "        break\n",
    "        \n",
    "    counter+=1\n",
    "    \n",
    "    arr = line1.strip().split(' ')\n",
    "    \n",
    "    for i in range(len(arr)):\n",
    "        index = int(arr[i].split(':')[0])\n",
    "        value = int(float(arr[i].split(':')[1]))\n",
    "        \n",
    "        X_train[counter-1][index] = value\n",
    "        \n",
    "#####################################  LOADING TRAIN Y DATA   ####################################\n",
    "\n",
    "f_y = open('./Data/train_y.txt','r')\n",
    "\n",
    "Y_train = []\n",
    "\n",
    "while True:\n",
    "    line2 = f_y.readline()\n",
    "    \n",
    "    if not line2:\n",
    "        break\n",
    "        \n",
    "    Y_train.append(int(line2))\n",
    "\n",
    "Y_train = np.asarray(Y_train)\n",
    "\n",
    "\n",
    "#####################################  LOADING VAL X DATA   ####################################\n",
    "\n",
    "val_x = open('./Data/valid_x.txt','r')\n",
    "\n",
    "X_val = np.zeros((21572,482))\n",
    "\n",
    "line1 = val_x.readline()\n",
    "counter = 0\n",
    "\n",
    "\n",
    "while True:\n",
    "    line1 = val_x.readline()\n",
    "    \n",
    "    if not line1:\n",
    "        break\n",
    "        \n",
    "    counter+=1\n",
    "    \n",
    "    arr = line1.strip().split(' ')\n",
    "    \n",
    "    for i in range(len(arr)):\n",
    "        index = int(arr[i].split(':')[0])\n",
    "        value = int(float(arr[i].split(':')[1]))\n",
    "        \n",
    "        X_val[counter-1][index] = value\n",
    "        \n",
    "#####################################  LOADING VAL Y DATA   ####################################\n",
    "\n",
    "val_y = open('./Data/valid_y.txt','r')\n",
    "\n",
    "Y_val = []\n",
    "\n",
    "while True:\n",
    "    line2 = val_y.readline()\n",
    "    \n",
    "    if not line2:\n",
    "        break\n",
    "        \n",
    "    Y_val.append(int(line2))\n",
    "\n",
    "Y_val = np.asarray(Y_val)\n",
    "\n",
    "\n",
    "#####################################  LOADING TEST X DATA   ####################################\n",
    "\n",
    "test_x = open('./Data/test_x.txt','r')\n",
    "\n",
    "X_test = np.zeros((21571,482))\n",
    "\n",
    "line = test_x.readline()\n",
    "counter = 0\n",
    "\n",
    "\n",
    "while True:\n",
    "    line1 = test_x.readline()\n",
    "    \n",
    "    if not line1:\n",
    "        break\n",
    "        \n",
    "    counter+=1\n",
    "    \n",
    "    arr = line1.strip().split(' ')\n",
    "    \n",
    "    for i in range(len(arr)):\n",
    "        index = int(arr[i].split(':')[0])\n",
    "        value = int(float(arr[i].split(':')[1]))\n",
    "        \n",
    "        X_test[counter-1][index] = value\n",
    "        \n",
    "#####################################  LOADING TEST Y DATA   ####################################\n",
    "\n",
    "test_y = open('./Data/test_y.txt','r')\n",
    "\n",
    "Y_test = []\n",
    "\n",
    "while True:\n",
    "    line2 = test_y.readline()\n",
    "    \n",
    "    if not line2:\n",
    "        break\n",
    "        \n",
    "    Y_test.append(int(line2))\n",
    "\n",
    "Y_test = np.asarray(Y_test)"
   ]
  },
  {
   "cell_type": "code",
   "execution_count": 16,
   "metadata": {},
   "outputs": [],
   "source": [
    "rfc = RandomForestClassifier(oob_score=True)\n",
    "parameters = {'n_estimators':[50, 150, 250, 350, 450], 'max_features':[0.1, 0.3, 0.5, 0.7, 0.9, 1.0], 'min_samples_split':[2, 4, 6, 8, 10]}"
   ]
  },
  {
   "cell_type": "code",
   "execution_count": 17,
   "metadata": {},
   "outputs": [],
   "source": [
    "def scorer(estimator,X,Y):\n",
    "    return estimator.oob_score_"
   ]
  },
  {
   "cell_type": "code",
   "execution_count": 20,
   "metadata": {},
   "outputs": [
    {
     "data": {
      "text/plain": [
       "GridSearchCV(cv=2, error_score=nan,\n",
       "             estimator=RandomForestClassifier(bootstrap=True, ccp_alpha=0.0,\n",
       "                                              class_weight=None,\n",
       "                                              criterion='gini', max_depth=None,\n",
       "                                              max_features='auto',\n",
       "                                              max_leaf_nodes=None,\n",
       "                                              max_samples=None,\n",
       "                                              min_impurity_decrease=0.0,\n",
       "                                              min_impurity_split=None,\n",
       "                                              min_samples_leaf=1,\n",
       "                                              min_samples_split=2,\n",
       "                                              min_weight_fraction_leaf=0.0,\n",
       "                                              n_estimators=100, n_jobs=None,\n",
       "                                              oob_score=True, random_state=None,\n",
       "                                              verbose=0, warm_start=False),\n",
       "             iid='deprecated', n_jobs=-1,\n",
       "             param_grid={'max_features': [0.1, 0.3, 0.5, 0.7, 0.9, 1.0],\n",
       "                         'min_samples_split': [2, 4, 6, 8, 10],\n",
       "                         'n_estimators': [50, 150, 250, 350, 450]},\n",
       "             pre_dispatch='2*n_jobs', refit=True, return_train_score=False,\n",
       "             scoring=<function scorer at 0x122254a60>, verbose=0)"
      ]
     },
     "execution_count": 20,
     "metadata": {},
     "output_type": "execute_result"
    }
   ],
   "source": [
    "search = GridSearchCV(estimator=rfc, param_grid=parameters, scoring=scorer,n_jobs=-1,cv=2)\n",
    "search.fit(X_train, Y_train)"
   ]
  },
  {
   "cell_type": "code",
   "execution_count": 23,
   "metadata": {},
   "outputs": [
    {
     "name": "stdout",
     "output_type": "stream",
     "text": [
      "Training Accuracy is  87.34720998871943 %\n"
     ]
    }
   ],
   "source": [
    "res = search.predict(X_train)\n",
    "correct = 0\n",
    "\n",
    "for i in range(len(res)):\n",
    "    if res[i]==Y_train[i]:\n",
    "        correct+=1\n",
    "        \n",
    "print('Training Accuracy is ', (correct/len(res))*100,'%')"
   ]
  },
  {
   "cell_type": "code",
   "execution_count": 22,
   "metadata": {},
   "outputs": [
    {
     "name": "stdout",
     "output_type": "stream",
     "text": [
      "Val Accuracy is  80.61375857593175 %\n"
     ]
    }
   ],
   "source": [
    "res = search.predict(X_val)\n",
    "correct = 0\n",
    "\n",
    "for i in range(len(res)):\n",
    "    if res[i]==Y_val[i]:\n",
    "        correct+=1\n",
    "        \n",
    "print('Val Accuracy is ', (correct/len(res))*100,'%')"
   ]
  },
  {
   "cell_type": "code",
   "execution_count": 24,
   "metadata": {},
   "outputs": [
    {
     "name": "stdout",
     "output_type": "stream",
     "text": [
      "Test Accuracy is  80.73802790783922 %\n"
     ]
    }
   ],
   "source": [
    "res = search.predict(X_test)\n",
    "correct = 0\n",
    "\n",
    "for i in range(len(res)):\n",
    "    if res[i]==Y_test[i]:\n",
    "        correct+=1\n",
    "        \n",
    "print('Test Accuracy is ', (correct/len(res))*100,'%')"
   ]
  },
  {
   "cell_type": "code",
   "execution_count": null,
   "metadata": {},
   "outputs": [],
   "source": [
    "print(clf.best_params_)"
   ]
  },
  {
   "cell_type": "code",
   "execution_count": null,
   "metadata": {},
   "outputs": [],
   "source": [
    "estimator = clf.best_estimator_"
   ]
  },
  {
   "cell_type": "code",
   "execution_count": null,
   "metadata": {},
   "outputs": [],
   "source": [
    "print(estimator.oob_score_) #oob accuracy"
   ]
  },
  {
   "cell_type": "code",
   "execution_count": 8,
   "metadata": {},
   "outputs": [
    {
     "name": "stdout",
     "output_type": "stream",
     "text": [
      "50 0.8061131457357873 0.8090955449446016 0.8043296866308177 0.8727303632964011\n",
      "150 0.8089410164881863 0.8072412034676185 0.8050250324494715 0.8733948356589866\n",
      "250 0.8100845270656591 0.8084001668907329 0.8065084368625997 0.8738738738738738\n",
      "350 0.8095745831594888 0.8079829400584118 0.8066938624142407 0.8737038925718171\n",
      "450 0.8101617912938668 0.8086783181122804 0.8064620804746894 0.8737811568000248\n"
     ]
    }
   ],
   "source": [
    "train_acc_estimators = []\n",
    "val_acc_estimators = []\n",
    "test_acc_estimators = []\n",
    "\n",
    "n_estimator = [50, 150, 250, 350, 450]\n",
    "for i in range(len(n_estimator)):\n",
    "    estimator = RandomForestClassifier(n_estimators=n_estimator[i], oob_score=True, min_samples_split=10, max_features=0.1, n_jobs=-1)\n",
    "    estimator.fit(X_train, Y_train)\n",
    "    train_acc_estimators.append(estimator.score(X_train, Y_train))\n",
    "    val_acc_estimators.append(estimator.score(X_val, Y_val))\n",
    "    test_acc_estimators.append(estimator.score(X_test, Y_test))\n",
    "\n",
    "    print(n_estimator[i], estimator.oob_score_, test_acc_estimators[i], val_acc_estimators[i], train_acc_estimators[i])"
   ]
  },
  {
   "cell_type": "code",
   "execution_count": 11,
   "metadata": {},
   "outputs": [
    {
     "name": "stdout",
     "output_type": "stream",
     "text": [
      "0.1 0.8105172067436218 0.8080292985953363 0.8063230113109586 0.8734720998871942\n",
      "0.3 0.8089410164881863 0.8074266376153169 0.8060912293714074 0.881090352788466\n",
      "0.5 0.8091573563271677 0.8071948449306939 0.805117745225292 0.8840727519972803\n",
      "0.7 0.8089564693338278 0.8057577302860321 0.8047932505099202 0.8863134146153014\n",
      "0.9 0.8077820530650719 0.8046451253998423 0.8050713888373818 0.8869315284409625\n",
      "1.0 0.806901240863505 0.8041815400305966 0.8040979046912664 0.8875032837296988\n"
     ]
    }
   ],
   "source": [
    "train_acc_max = []\n",
    "val_acc_max = []\n",
    "test_acc_max = []\n",
    "\n",
    "max_feature = [0.1, 0.3, 0.5, 0.7, 0.9, 1.0]\n",
    "\n",
    "for i in range(len(max)):\n",
    "    estimator = RandomForestClassifier(n_estimators=350, oob_score=True, min_samples_split=10, max_features=max_feature[i], n_jobs=-1)\n",
    "    estimator.fit(X_train, Y_train)\n",
    "    train_acc_max.append(estimator.score(X_train, Y_train))\n",
    "    val_acc_max.append(estimator.score(X_val, Y_val))\n",
    "    test_acc_max.append(estimator.score(X_test, Y_test))\n",
    "\n",
    "    print(max_feature[i], estimator.oob_score_, test_acc_max[i], val_acc_max[i], train_acc_max[i])"
   ]
  },
  {
   "cell_type": "code",
   "execution_count": 26,
   "metadata": {},
   "outputs": [
    {
     "name": "stdout",
     "output_type": "stream",
     "text": [
      "2 0.8018636131843679 0.7984330814519494 0.7980715742629334 0.9127223278166674\n",
      "4 0.8067158067158067 0.8033007278290297 0.8012701650287409 0.9005454854511459\n",
      "6 0.8079365815214872 0.80654582541375 0.8026608566660486 0.8882295674748505\n",
      "8 0.809404601857432 0.8079365815214872 0.8054422399406638 0.8799313893653516\n",
      "10 0.810285414058999 0.8083538083538083 0.8069720007417022 0.8737811568000248\n"
     ]
    }
   ],
   "source": [
    "train_acc_split = []\n",
    "val_acc_split = []\n",
    "test_acc_split = []\n",
    "\n",
    "split = [2, 4, 6, 8, 10]\n",
    "\n",
    "for i in range(len(split)):\n",
    "    estimator = RandomForestClassifier(n_estimators=350, oob_score=True, min_samples_split=split[i], max_features=0.1, n_jobs=-1)\n",
    "    estimator.fit(X_train, Y_train)\n",
    "    train_acc_split.append(estimator.score(X_train, Y_train))\n",
    "    val_acc_split.append(estimator.score(X_val, Y_val))\n",
    "    test_acc_split.append(estimator.score(X_test, Y_test))\n",
    "\n",
    "    print(split[i], estimator.oob_score_, test_acc_split[i], val_acc_split[i], train_acc_split[i])"
   ]
  },
  {
   "cell_type": "code",
   "execution_count": 40,
   "metadata": {},
   "outputs": [
    {
     "data": {
      "image/png": "[encoded data removed]",
      "text/plain": [
       "<Figure size 432x288 with 1 Axes>"
      ]
     },
     "metadata": {
      "needs_background": "light"
     },
     "output_type": "display_data"
    },
    {
     "data": {
      "image/png": "[encoded data removed]",
      "text/plain": [
       "<Figure size 432x288 with 1 Axes>"
      ]
     },
     "metadata": {
      "needs_background": "light"
     },
     "output_type": "display_data"
    }
   ],
   "source": [
    "plt.figure()\n",
    "plt.plot(n_estimator, train_acc_estimators[:5], label='train set',color='b')\n",
    "plt.plot(n_estimator, val_acc_estimators[:5], label='valid set',color='r')\n",
    "plt.plot(n_estimator,test_acc_estimators[:5], label='test set',color='g')\n",
    "plt.xlabel('n_estimators')\n",
    "plt.ylabel('Accuracy')\n",
    "plt.legend()\n",
    "plt.show()\n",
    "\n",
    "\n",
    "plt.figure()\n",
    "plt.plot(n_estimator, val_acc_estimators[:5], label='valid set',color='r',marker='o')\n",
    "plt.plot(n_estimator,test_acc_estimators[:5], label='test set',color='g',marker='<')\n",
    "plt.xlabel('n_estimators')\n",
    "plt.ylabel('Accuracy')\n",
    "plt.ylim(0.78,0.82)\n",
    "plt.legend()\n",
    "plt.show()"
   ]
  },
  {
   "cell_type": "code",
   "execution_count": 35,
   "metadata": {},
   "outputs": [
    {
     "data": {
      "image/png": "[encoded data removed]",
      "text/plain": [
       "<Figure size 432x288 with 1 Axes>"
      ]
     },
     "metadata": {
      "needs_background": "light"
     },
     "output_type": "display_data"
    },
    {
     "data": {
      "image/png": "[encoded data removed]",
      "text/plain": [
       "<Figure size 432x288 with 1 Axes>"
      ]
     },
     "metadata": {
      "needs_background": "light"
     },
     "output_type": "display_data"
    }
   ],
   "source": [
    "plt.figure()\n",
    "plt.plot(max_feature, train_acc_max, label='train set',color='b')\n",
    "plt.plot(max_feature, val_acc_max, label='valid set',color='r')\n",
    "plt.plot(max_feature,test_acc_max, label='test set',color='g')\n",
    "plt.xlabel('max_features')\n",
    "plt.ylabel('Accuracy')\n",
    "plt.legend()\n",
    "plt.show()\n",
    "\n",
    "plt.figure()\n",
    "plt.plot(max_feature, val_acc_max, label='valid set',color='r',marker='o')\n",
    "plt.plot(max_feature,test_acc_max, label='test set',color='g',marker='<')\n",
    "plt.xlabel('max_features')\n",
    "plt.ylabel('Accuracy')\n",
    "# plt.ylim(0.78,0,82)\n",
    "plt.legend()\n",
    "plt.show()"
   ]
  },
  {
   "cell_type": "code",
   "execution_count": 38,
   "metadata": {},
   "outputs": [
    {
     "data": {
      "image/png": "[encoded data removed]",
      "text/plain": [
       "<Figure size 432x288 with 1 Axes>"
      ]
     },
     "metadata": {
      "needs_background": "light"
     },
     "output_type": "display_data"
    },
    {
     "data": {
      "image/png": "[encoded data removed]",
      "text/plain": [
       "<Figure size 432x288 with 1 Axes>"
      ]
     },
     "metadata": {
      "needs_background": "light"
     },
     "output_type": "display_data"
    }
   ],
   "source": [
    "plt.figure()\n",
    "plt.plot(split, train_acc_split, label='train set',color='b')\n",
    "plt.plot(split, val_acc_split, label='valid set',color='r')\n",
    "plt.plot(split,test_acc_split, label='test set',color='g')\n",
    "plt.xlabel('min samples split')\n",
    "plt.ylabel('Accuracy')\n",
    "plt.legend()\n",
    "plt.show()\n",
    "\n",
    "plt.figure()\n",
    "plt.plot(split, val_acc_split, label='valid set',color='r',marker='o')\n",
    "plt.plot(split,test_acc_split, label='test set',color='g',marker='<')\n",
    "plt.xlabel('min samples split')\n",
    "plt.ylabel('Accuracy')\n",
    "plt.ylim(0.78,0.82)\n",
    "plt.legend()\n",
    "plt.show()"
   ]
  },
  {
   "cell_type": "code",
   "execution_count": null,
   "metadata": {},
   "outputs": [],
   "source": []
  }
 ],
 "metadata": {
  "kernelspec": {
   "display_name": "Python 3",
   "language": "python",
   "name": "python3"
  },
  "language_info": {
   "codemirror_mode": {
    "name": "ipython",
    "version": 3
   },
   "file_extension": ".py",
   "mimetype": "text/x-python",
   "name": "python",
   "nbconvert_exporter": "python",
   "pygments_lexer": "ipython3",
   "version": "3.8.1"
  }
 },
 "nbformat": 4,
 "nbformat_minor": 4
}
