{
 "cells": [
  {
   "cell_type": "code",
   "execution_count": 49,
   "metadata": {},
   "outputs": [],
   "source": [
    "import numpy as np\n",
    "import pandas as pd\n",
    "import sys\n",
    "import math\n",
    "import time\n",
    "from sklearn.neural_network import MLPClassifier"
   ]
  },
  {
   "cell_type": "code",
   "execution_count": 13,
   "metadata": {},
   "outputs": [],
   "source": [
    "train_df = pd.read_csv(\"./Alphabets/train.csv\")\n",
    "train_data = train_df.values\n",
    "\n",
    "test_df = pd.read_csv(\"./Alphabets/test.csv\")\n",
    "test_data = test_df.values"
   ]
  },
  {
   "cell_type": "code",
   "execution_count": 14,
   "metadata": {},
   "outputs": [
    {
     "name": "stdout",
     "output_type": "stream",
     "text": [
      "(12999, 784)\n",
      "(6499, 784)\n"
     ]
    }
   ],
   "source": [
    "#=========================READING TRAINING DATA================================\n",
    "\n",
    "# X_train = np.zeros((np.shape(train_data)[0], np.shape(train_data)[1]), dtype=float)\n",
    "X_train = train_data[:,:-1]\n",
    "Y_data = train_data[:,-1]\n",
    "Y_train = np.zeros((np.shape(X_train)[0],26))\n",
    "\n",
    "#converting input into one-hot encoding\n",
    "for i in range(np.shape(Y_data)[0]):\n",
    "    Y_train[i][Y_data[i]] = 1  \n",
    "    \n",
    "X_train = X_train/255.\n",
    "\n",
    "print(X_train.shape)\n",
    "#========================READING TEST DATA======================================\n",
    "\n",
    "X_test = test_data[:,:-1]\n",
    "Y_data = test_data[:,-1]\n",
    "Y_test = np.zeros((np.shape(X_test)[0],26))\n",
    "\n",
    "#converting input into one-hot encoding\n",
    "for i in range(np.shape(Y_data)[0]):\n",
    "    Y_test[i][Y_data[i]] = 1  \n",
    "    \n",
    "X_test = X_test/255.\n",
    "\n",
    "print(X_test.shape)"
   ]
  },
  {
   "cell_type": "code",
   "execution_count": 56,
   "metadata": {},
   "outputs": [],
   "source": [
    "classifier = MLPClassifier(hidden_layer_sizes=(100,100), max_iter=2000,learning_rate_init=0.1,learning_rate='adaptive',activation = 'relu',solver='sgd',random_state=1,batch_size=100)"
   ]
  },
  {
   "cell_type": "code",
   "execution_count": 67,
   "metadata": {},
   "outputs": [
    {
     "name": "stdout",
     "output_type": "stream",
     "text": [
      "(12999, 1)\n",
      "(12999,)\n"
     ]
    }
   ],
   "source": [
    "print(np.shape(X_train[:,0].reshape(-1,1)))\n",
    "y_pred_train = np.zeros((np.shape(Y_train)[0],np.shape(Y_train)[1]))\n",
    "print(np.shape(y_pred_train[:,0]))\n"
   ]
  },
  {
   "cell_type": "code",
   "execution_count": 78,
   "metadata": {},
   "outputs": [
    {
     "data": {
      "text/plain": [
       "MLPClassifier(activation='relu', alpha=0.0001, batch_size=100, beta_1=0.9,\n",
       "              beta_2=0.999, early_stopping=False, epsilon=1e-08,\n",
       "              hidden_layer_sizes=(100, 100), learning_rate='adaptive',\n",
       "              learning_rate_init=0.1, max_fun=15000, max_iter=1000,\n",
       "              momentum=0.9, n_iter_no_change=10, nesterovs_momentum=True,\n",
       "              power_t=0.5, random_state=1, shuffle=True, solver='sgd',\n",
       "              tol=0.0001, validation_fraction=0.1, verbose=False,\n",
       "              warm_start=False)"
      ]
     },
     "execution_count": 78,
     "metadata": {},
     "output_type": "execute_result"
    }
   ],
   "source": [
    "classifier.fit(X_train,Y_train)"
   ]
  },
  {
   "cell_type": "code",
   "execution_count": 79,
   "metadata": {},
   "outputs": [],
   "source": [
    "y_pred_train = classifier.predict_proba(X_train)"
   ]
  },
  {
   "cell_type": "code",
   "execution_count": 81,
   "metadata": {},
   "outputs": [
    {
     "name": "stdout",
     "output_type": "stream",
     "text": [
      "Train accuracy is 100.0 %\n"
     ]
    }
   ],
   "source": [
    "count = 0\n",
    "for i in range(len(Y_train)):\n",
    "    if (np.argmax(Y_train[i])==np.argmax(y_pred_train[i])):\n",
    "        count+=1\n",
    "\n",
    "        \n",
    "print(\"Train accuracy is\",float(count/len(Y_train))*100,\"%\")"
   ]
  },
  {
   "cell_type": "code",
   "execution_count": 83,
   "metadata": {},
   "outputs": [],
   "source": [
    "y_pred_test = classifier.predict_proba(X_test)"
   ]
  },
  {
   "cell_type": "code",
   "execution_count": 84,
   "metadata": {},
   "outputs": [
    {
     "name": "stdout",
     "output_type": "stream",
     "text": [
      "Test accuracy is 92.0295430066164 %\n"
     ]
    }
   ],
   "source": [
    "count = 0\n",
    "for i in range(len(Y_test)):\n",
    "    if (np.argmax(Y_test[i])==np.argmax(y_pred_test[i])):\n",
    "        count+=1\n",
    "\n",
    "        \n",
    "print(\"Test accuracy is\",float(count/len(Y_test))*100,\"%\")"
   ]
  },
  {
   "cell_type": "code",
   "execution_count": null,
   "metadata": {},
   "outputs": [],
   "source": []
  }
 ],
 "metadata": {
  "kernelspec": {
   "display_name": "Python 3",
   "language": "python",
   "name": "python3"
  },
  "language_info": {
   "codemirror_mode": {
    "name": "ipython",
    "version": 3
   },
   "file_extension": ".py",
   "mimetype": "text/x-python",
   "name": "python",
   "nbconvert_exporter": "python",
   "pygments_lexer": "ipython3",
   "version": "3.8.1"
  }
 },
 "nbformat": 4,
 "nbformat_minor": 4
}
