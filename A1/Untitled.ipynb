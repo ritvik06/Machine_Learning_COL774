{
 "cells": [
  {
   "cell_type": "code",
   "execution_count": 14,
   "metadata": {},
   "outputs": [],
   "source": [
    "import math\n",
    "import numpy as np\n",
    "import matplotlib.pyplot as plt"
   ]
  },
  {
   "cell_type": "code",
   "execution_count": 15,
   "metadata": {},
   "outputs": [],
   "source": [
    "\n",
    "def sigmoid(x):\n",
    "    return 1 / (1 + np.exp(-x))\n",
    "\n",
    "\n",
    "def hypthesis(X, theta):\n",
    "    return sigmoid(np.dot(X, theta))\n",
    "\n",
    "\n",
    "def gradient(X, y, theta):\n",
    "    return np.dot(X.T, y - hypthesis(X, theta))\n",
    "\n",
    "\n",
    "def get_y(theta, x):\n",
    "    return -(theta[0] + (theta[1] * x)) / theta[2]\n",
    "\n",
    "\n",
    "def hessian(X, theta):\n",
    "    dim_theta = len(theta)\n",
    "    H = np.zeros(dim_theta * dim_theta).reshape(dim_theta, dim_theta)\n",
    "    for i in range(dim_theta):\n",
    "        for j in range(dim_theta):\n",
    "            sum = 0\n",
    "            for k in range(X.shape[0]):\n",
    "                sum = sum + (X[k, i] * X[k, j] * hypthesis(X[k, :], theta) *\n",
    "                             (hypthesis(X[k, :], theta) - 1))\n",
    "            H[i, j] = sum\n",
    "    return H\n"
   ]
  },
  {
   "cell_type": "code",
   "execution_count": 18,
   "metadata": {},
   "outputs": [],
   "source": [
    "def normalize(theta):\n",
    "    return ([theta[0] / theta[2], theta[1] / theta[2], 1])\n",
    "\n",
    "\n",
    "def run_newton_method(X, y, theta, epsilon):\n",
    "    old_theta = theta\n",
    "    count = 0\n",
    "    error = 1\n",
    "    while (error > epsilon):\n",
    "        old_theta = theta\n",
    "        H = hessian(X, theta)\n",
    "        grad = gradient(X, y, theta)\n",
    "        theta = theta - np.dot(np.linalg.pinv(H), grad)\n",
    "        print('Iteration : ' + str(count))\n",
    "        count = count + 1\n",
    "        error = np.max(np.abs(theta - old_theta))\n",
    "\n",
    "    return theta\n",
    "\n",
    "\n",
    "def main(X, labels0, labels1, num_of_examples, y):\n",
    "    #plot the initial training data\n",
    "    print('\\n\\nPlotting the data...\\n')\n",
    "    plt.figure()\n",
    "    x1 = np.array([X[x, 1:3] for x in labels0])\n",
    "    x2 = np.array([X[x, 1:3] for x in labels1])\n",
    "    plt.plot(x1[:, 0], x1[:, 1], 'ro', marker='o', label = 'Class 0')\n",
    "    plt.plot(x2[:, 0], x2[:, 1], 'bo', marker='^', label = 'Class 1')\n",
    "    plt.xlabel('x1 -->')\n",
    "    plt.ylabel('x2 -->')\n",
    "    plt.legend()\n",
    "    plt.title('Training Set')\n",
    "    plt.show(block=False)\n",
    "    input('\\nPress Enter to close\\n')\n",
    "    plt.close()\n",
    "\n",
    "    theta = np.reshape(np.zeros(3), (3, 1))  #0-initialization of theta\n",
    "\n",
    "    #run the Newton-Rapson Method\n",
    "    epsilon = math.pow(10, -10)\n",
    "    theta = run_newton_method(X, y, theta, epsilon)\n",
    "    x_lines = [np.min(X[:, 1]), np.max(X[:, 1])]\n",
    "    # theta = normalize(theta)\n",
    "    print('\\n\\nPlotting the data...\\n')\n",
    "    plt.figure()\n",
    "    x1 = np.array([X[x, 1:3] for x in labels0])\n",
    "    x2 = np.array([X[x, 1:3] for x in labels1])\n",
    "    plt.plot(x1[:, 0], x1[:, 1], 'ro', marker='o', label = 'Class 0')\n",
    "    plt.plot(x2[:, 0], x2[:, 1], 'bo', marker='^', label = 'Class 1')\n",
    "    plt.plot(x_lines, get_y(theta, x_lines))\n",
    "    plt.xlabel('x1 -->')\n",
    "    plt.ylabel('x2-->')\n",
    "    plt.legend()\n",
    "    plt.title('Logistic Regression with Decision Boundary')\n",
    "    plt.show(block=False)\n",
    "    input('\\nPress Enter to close\\n')\n",
    "    plt.close()"
   ]
  },
  {
   "cell_type": "code",
   "execution_count": 19,
   "metadata": {},
   "outputs": [
    {
     "name": "stdout",
     "output_type": "stream",
     "text": [
      "\n",
      "\n",
      "Plotting the data...\n",
      "\n"
     ]
    },
    {
     "data": {
      "image/png": "[encoded data removed]",
      "text/plain": [
       "<Figure size 432x288 with 1 Axes>"
      ]
     },
     "metadata": {
      "needs_background": "light"
     },
     "output_type": "display_data"
    },
    {
     "name": "stdout",
     "output_type": "stream",
     "text": [
      "\n",
      "Press Enter to close\n",
      "\n",
      "Iteration : 0\n",
      "Iteration : 1\n",
      "Iteration : 2\n",
      "Iteration : 3\n",
      "Iteration : 4\n",
      "Iteration : 5\n",
      "Iteration : 6\n",
      "Iteration : 7\n",
      "Iteration : 8\n",
      "\n",
      "\n",
      "Plotting the data...\n",
      "\n"
     ]
    },
    {
     "data": {
      "image/png": "[encoded data removed]",
      "text/plain": [
       "<Figure size 432x288 with 1 Axes>"
      ]
     },
     "metadata": {
      "needs_background": "light"
     },
     "output_type": "display_data"
    },
    {
     "name": "stdout",
     "output_type": "stream",
     "text": [
      "\n",
      "Press Enter to close\n",
      "\n"
     ]
    }
   ],
   "source": [
    "\n",
    "if __name__ == '__main__':\n",
    "    X = np.loadtxt(\n",
    "        open(\"./q3/logisticX.csv\", \"rb\"),\n",
    "        delimiter=\",\",\n",
    "        skiprows=0)\n",
    "    y = np.loadtxt(\n",
    "        open(\"./q3/logisticY.csv\", \"rb\"),\n",
    "        delimiter=\",\",\n",
    "        skiprows=0,\n",
    "        dtype=int)\n",
    "    m = len(y)\n",
    "\n",
    "    #separate the labels\n",
    "    labels0 = []\n",
    "    labels1 = []\n",
    "    for i in range(m):\n",
    "        if (y[i] == 0):\n",
    "            labels0.append(i)\n",
    "        else:\n",
    "            labels1.append(i)\n",
    "\n",
    "    #feature scaling\n",
    "    temp = X[:,0].copy()\n",
    "    temp -= np.mean(X[:, 0])\n",
    "    temp /= np.std(X[:, 0])\n",
    "    X[:, 0] = temp\n",
    "    temp = X[:, 1].copy()\n",
    "    temp -= np.mean(X[:, 1])\n",
    "    temp /= np.std(X[:, 1])\n",
    "    X[:, 1] = temp\n",
    "    X = np.hstack((np.reshape(np.ones(m), (m, 1)), X))\n",
    "    main(X, labels0, labels1, m, y.reshape(m, 1))"
   ]
  },
  {
   "cell_type": "code",
   "execution_count": null,
   "metadata": {},
   "outputs": [],
   "source": []
  }
 ],
 "metadata": {
  "kernelspec": {
   "display_name": "Python 3",
   "language": "python",
   "name": "python3"
  },
  "language_info": {
   "codemirror_mode": {
    "name": "ipython",
    "version": 3
   },
   "file_extension": ".py",
   "mimetype": "text/x-python",
   "name": "python",
   "nbconvert_exporter": "python",
   "pygments_lexer": "ipython3",
   "version": "3.7.4"
  }
 },
 "nbformat": 4,
 "nbformat_minor": 2
}
