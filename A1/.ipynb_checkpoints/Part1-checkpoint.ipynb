{
 "cells": [
  {
   "cell_type": "code",
   "execution_count": 17,
   "metadata": {},
   "outputs": [],
   "source": [
    "import matplotlib as plt\n",
    "import numpy as np\n",
    "import csv"
   ]
  },
  {
   "cell_type": "code",
   "execution_count": 22,
   "metadata": {},
   "outputs": [
    {
     "name": "stdout",
     "output_type": "stream",
     "text": [
      "[0. 0.]\n"
     ]
    }
   ],
   "source": [
    "X_train = []\n",
    "Y_train = []\n",
    "\n",
    "def read_values():\n",
    "    #Reading training values for x axis\n",
    "    with open('./q1/linearX.csv') as csvfile:\n",
    "        reader = csv.reader(csvfile, delimiter=',')\n",
    "        for line in reader:\n",
    "            X_train.append(line[0])\n",
    "\n",
    "    #Reading training values for y axis\n",
    "    with open('./q1/linearX.csv') as csvfile:\n",
    "        reader = csv.reader(csvfile, delimiter=',')\n",
    "        for line in reader:\n",
    "            X_train.append(line[0])        \n",
    "\n",
    "#     print(X_train)\n",
    "#     print(Y_train)\n",
    "# theta = np.reshape(np.zeros(2), (2, 1))\n",
    "theta = np.zeros(2)\n",
    "print(theta)"
   ]
  },
  {
   "cell_type": "code",
   "execution_count": 23,
   "metadata": {},
   "outputs": [],
   "source": [
    "def cost_func(X,Y,Theta,M):\n",
    "    H = np.dot(X,Theta)\n",
    "    Z = np.subtract(H,Y)\n",
    "    J = (1/2*M) * (np.dot(Z.T,Z))\n",
    "    return (J[0][0])\n"
   ]
  },
  {
   "cell_type": "code",
   "execution_count": null,
   "metadata": {},
   "outputs": [],
   "source": [
    "def gradient_desc(X,Y,Theta,M,alpha):\n",
    "    \n",
    "    "
   ]
  }
 ],
 "metadata": {
  "kernelspec": {
   "display_name": "Python 3",
   "language": "python",
   "name": "python3"
  },
  "language_info": {
   "codemirror_mode": {
    "name": "ipython",
    "version": 3
   },
   "file_extension": ".py",
   "mimetype": "text/x-python",
   "name": "python",
   "nbconvert_exporter": "python",
   "pygments_lexer": "ipython3",
   "version": "3.8.1"
  }
 },
 "nbformat": 4,
 "nbformat_minor": 4
}
