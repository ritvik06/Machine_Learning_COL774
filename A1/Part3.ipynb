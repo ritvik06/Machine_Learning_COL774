{
 "cells": [
  {
   "cell_type": "code",
   "execution_count": 532,
   "metadata": {},
   "outputs": [],
   "source": [
    "import matplotlib.pyplot as plt\n",
    "import numpy as np\n",
    "import csv\n",
    "import math"
   ]
  },
  {
   "cell_type": "code",
   "execution_count": 533,
   "metadata": {},
   "outputs": [],
   "source": [
    "#Preparing dataset for processing\n",
    "X_train = np.loadtxt('./q3/logisticX.csv',delimiter=',')\n",
    "Y_train = np.loadtxt('./q3/logisticY.csv')\n",
    "Y_train = Y_train.reshape(len(Y_train),1)\n",
    "theta = np.zeros((3,1))\n",
    "\n",
    "#Keep copies before normalisation step\n",
    "\n",
    "X_copy = X_train\n",
    "Y_copy = Y_train\n",
    "\n",
    "#Normalise values\n",
    "\n",
    "M = len(X_train)\n",
    "\n",
    "X_train = (X_train - np.mean(X_train)) / (np.max(X_train) - np.mean(X_train))\n",
    "X_train = np.hstack((np.reshape(np.ones(M), (M, 1)), X_train))\n",
    "\n",
    "# print(theta)\n",
    "# print(X_train)"
   ]
  },
  {
   "cell_type": "code",
   "execution_count": 534,
   "metadata": {},
   "outputs": [],
   "source": [
    "def sigmoid(array):\n",
    "    \n",
    "    for i in range(len(array)):\n",
    "#        print(\"entered\")\n",
    "#         print(array[i][0])\n",
    "        array[i][0] = 1/(1+np.exp(array[i]))\n",
    "    return array\n",
    "\n",
    "# sigmoid([[1],[2]])"
   ]
  },
  {
   "cell_type": "code",
   "execution_count": 535,
   "metadata": {},
   "outputs": [],
   "source": [
    "def cost_func(X,Y,Theta):\n",
    "    mul = np.dot(X,Theta)\n",
    "    activ = sigmoid(mul)\n",
    "\n",
    "    cost = -1*np.sum(Y*np.log(activ) + (1-Y)*np.log(1-activ))\n",
    "#     print(cost)\n",
    "    return cost\n",
    "\n",
    "# cost_func(X_train,Y_train,theta)"
   ]
  },
  {
   "cell_type": "code",
   "execution_count": 536,
   "metadata": {},
   "outputs": [
    {
     "data": {
      "text/plain": [
       "array([[  0.        ],\n",
       "       [ 11.60909427],\n",
       "       [-12.3132807 ]])"
      ]
     },
     "execution_count": 536,
     "metadata": {},
     "output_type": "execute_result"
    }
   ],
   "source": [
    "def derivative(X,Y,Theta,count):\n",
    "    #derivative for one sample, have to sum it over m samples\n",
    "    i_dash = 0\n",
    "    \n",
    "    if count<(M+1):\n",
    "#         print(\"Entered 1\")\n",
    "        mul = np.dot(X,Theta)\n",
    "#         print(\"Mul \",mul)\n",
    "        activ = sigmoid(mul)\n",
    "#         print(\"Activ \",activ)\n",
    "        dif = Y-activ\n",
    "        return np.dot(X.T,dif)\n",
    "    else:\n",
    "#         print(\"Entered 2\")\n",
    "        return -1\n",
    "    \n",
    "derivative(X_train,Y_train,theta,1)"
   ]
  },
  {
   "cell_type": "code",
   "execution_count": 537,
   "metadata": {},
   "outputs": [
    {
     "data": {
      "text/plain": [
       "array([[25.        ,  0.31164265, -0.31164265],\n",
       "       [ 0.31164265,  2.94627644, -1.53829628],\n",
       "       [-0.31164265, -1.53829628,  3.2586181 ]])"
      ]
     },
     "execution_count": 537,
     "metadata": {},
     "output_type": "execute_result"
    }
   ],
   "source": [
    "def hessian(X,Y,Theta):\n",
    "    mul = np.dot(X,Theta)\n",
    "    activ = sigmoid(mul)\n",
    "    hes = np.dot(np.dot(X.T,np.diag((activ*(1-activ)).reshape(-1,))),X)\n",
    "    return hes\n",
    "\n",
    "hessian(X_train,Y_train,theta) "
   ]
  },
  {
   "cell_type": "code",
   "execution_count": 538,
   "metadata": {},
   "outputs": [
    {
     "name": "stdout",
     "output_type": "stream",
     "text": [
      "Final Cost  22.83414498447239\n",
      "Final value of Theta  [[-0.2130308 ]\n",
      " [-7.54529007]\n",
      " [ 7.55392363]]\n"
     ]
    }
   ],
   "source": [
    "count = 0\n",
    "\n",
    "while(count<10):\n",
    "    mul = np.dot(X_train,theta)\n",
    "#     print(theta)\n",
    "#     print(X_train[53])\n",
    "\n",
    "    activ = sigmoid(mul)\n",
    "    \n",
    "#     print(activ)\n",
    "\n",
    "    #Y-sigmoid(Theta(T).X)\n",
    "    dif = Y_train-activ\n",
    "    \n",
    "    hes = hessian(X_train,Y_train,theta)\n",
    "#     print(hes)\n",
    "#     print(derivative(X_train,Y_train,theta,count))\n",
    "#     print(np.linalg.pinv(hes))\n",
    "    \n",
    "#     print(np.dot(np.linalg.pinv(hes),derivative(X_train,Y_train,theta,count)))\n",
    "#     print(np.dot(X_train.T,dif))\n",
    "    theta = theta - np.dot(np.linalg.pinv(hes),np.dot(X_train.T,dif))\n",
    "        \n",
    "    #Theta now updated, calculate params again\n",
    "    \n",
    "#     print(cost_func(X_train, Y_train, theta))\n",
    "    count+=1\n",
    "\n",
    "print(\"Final Cost \", cost_func(X_train, Y_train, theta))\n",
    "print(\"Final value of Theta \",theta)\n",
    "    "
   ]
  },
  {
   "cell_type": "code",
   "execution_count": 540,
   "metadata": {},
   "outputs": [
    {
     "data": {
      "image/png": "[encoded data removed]",
      "text/plain": [
       "<Figure size 432x288 with 1 Axes>"
      ]
     },
     "metadata": {
      "needs_background": "light"
     },
     "output_type": "display_data"
    }
   ],
   "source": [
    "#Separate Labels by values\n",
    "\n",
    "\n",
    "index_0 = []\n",
    "index_1 = []\n",
    "X1_0 = []\n",
    "X1_1 = []\n",
    "X2_0 = []\n",
    "X2_1 = []\n",
    "\n",
    "for i in range(len(X_train)):\n",
    "    if Y_copy[i]==0:\n",
    "        index_0.append(i)\n",
    "    else:\n",
    "        index_1.append(i)\n",
    "        \n",
    "X_line = [2,8]\n",
    "#using separator equation\n",
    "Y_line = -1*(theta[0] + theta[1]*X_line)/theta[2]\n",
    "\n",
    "# print(X_line)\n",
    "# print(Y_line)\n",
    "\n",
    "        \n",
    "# print(index_0)\n",
    "\n",
    "for num in index_0:\n",
    "    X1_0.append(X_copy[num][0])\n",
    "    X2_0.append(X_copy[num][1])\n",
    "    \n",
    "for num in index_1:\n",
    "    X1_1.append(X_copy[num][0])\n",
    "    X2_1.append(X_copy[num][1])\n",
    "    \n",
    "plt.figure(1)\n",
    "plt.title(\"Logistic regression Plots\")\n",
    "plt.plot(X1_0,X2_0,'bo')\n",
    "plt.plot(X1_1,X2_1,'ro')\n",
    "\n",
    "\n",
    "plt.plot(X_line,Y_line)\n",
    "\n",
    "\n",
    "plt.xlabel('X1')\n",
    "plt.ylabel('X2')\n",
    "\n",
    "plt.show()\n",
    "plt.close()"
   ]
  },
  {
   "cell_type": "code",
   "execution_count": null,
   "metadata": {},
   "outputs": [],
   "source": []
  }
 ],
 "metadata": {
  "kernelspec": {
   "display_name": "Python 3",
   "language": "python",
   "name": "python3"
  },
  "language_info": {
   "codemirror_mode": {
    "name": "ipython",
    "version": 3
   },
   "file_extension": ".py",
   "mimetype": "text/x-python",
   "name": "python",
   "nbconvert_exporter": "python",
   "pygments_lexer": "ipython3",
   "version": "3.7.4"
  }
 },
 "nbformat": 4,
 "nbformat_minor": 2
}
